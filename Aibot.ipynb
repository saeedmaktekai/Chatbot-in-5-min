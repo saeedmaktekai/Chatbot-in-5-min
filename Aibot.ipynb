{
 "cells": [
  {
   "cell_type": "code",
   "execution_count": 1,
   "metadata": {},
   "outputs": [],
   "source": [
    "# import all important libraries \n",
    "from langchain_chroma import Chroma\n",
    "\n",
    "from langchain_openai import OpenAIEmbeddings\n",
    "from langchain_text_splitters import CharacterTextSplitter\n",
    "from langchain_community.document_loaders import DirectoryLoader\n",
    "from dotenv import load_dotenv\n",
    "import os"
   ]
  },
  {
   "cell_type": "code",
   "execution_count": 2,
   "metadata": {},
   "outputs": [
    {
     "data": {
      "text/plain": [
       "True"
      ]
     },
     "execution_count": 2,
     "metadata": {},
     "output_type": "execute_result"
    }
   ],
   "source": [
    "load_dotenv()"
   ]
  },
  {
   "cell_type": "code",
   "execution_count": 3,
   "metadata": {},
   "outputs": [
    {
     "name": "stdout",
     "output_type": "stream",
     "text": [
      "sk-proj-UBeh6jywisFG7OU5oAPpT3BlbkFJ9VmUFFIC5h0ikektGMyH\n"
     ]
    }
   ],
   "source": [
    "openai_api=os.getenv(\"OPENAI_API_KEY\")\n",
    "print(openai_api)"
   ]
  },
  {
   "cell_type": "code",
   "execution_count": 50,
   "metadata": {},
   "outputs": [],
   "source": [
    "# load the document and split it into chunks\n",
    "# loader = DirectoryLoader(\"\")\n",
    "# documents = loader.load()\n",
    "loader = DirectoryLoader(\"./data\", glob=\"**/*.md\")\n",
    "documents = loader.load()\n",
    "len(documents)"
   ]
  },
  {
   "cell_type": "code",
   "execution_count": 51,
   "metadata": {},
   "outputs": [],
   "source": [
    "# split it into chunks\n",
    "text_splitter = CharacterTextSplitter(chunk_size=1000, chunk_overlap=0)\n",
    "docs = text_splitter.split_documents(documents)"
   ]
  },
  {
   "cell_type": "code",
   "execution_count": 5,
   "metadata": {},
   "outputs": [],
   "source": [
    "embeddings = OpenAIEmbeddings(model=\"text-embedding-3-small\")"
   ]
  },
  {
   "cell_type": "code",
   "execution_count": 54,
   "metadata": {},
   "outputs": [],
   "source": [
    "#creating a database in local run if you wanna create one in your local machine \n",
    "Chroma.from_documents(docs, embeddings, persist_directory=\"./databasechroma\")"
   ]
  },
  {
   "cell_type": "code",
   "execution_count": 7,
   "metadata": {},
   "outputs": [],
   "source": [
    "#load the chroma \n",
    "vectoredb=Chroma(persist_directory=\"./databasechroma\", embedding_function=embeddings)\n",
    "docs = vectoredb.similarity_search(query)"
   ]
  },
  {
   "cell_type": "code",
   "execution_count": 9,
   "metadata": {},
   "outputs": [],
   "source": [
    "query = \"what is fastapi ? \"\n",
    "docs = vectoredb.similarity_search(query)"
   ]
  },
  {
   "cell_type": "code",
   "execution_count": 86,
   "metadata": {},
   "outputs": [
    {
     "data": {
      "text/plain": [
       "'Classes, Handling errors\\n\\nProject 3\\n\\nwww.luv2code.com\\n\\nDatabase & ORM\\n\\nAuthentication JWT\\n\\nRouting\\n\\n© luv2code LLC\\n\\n© CODINGWITHROBY\\n\\nCourse Content!\\n\\nProject 3.5\\n\\nDB & Data Migration\\n\\nProject 4\\n\\nLET’S CODE TOGETHER\\n\\nUnit & Integration Testing\\n\\nProject 5\\n\\nFull Stack Development\\n\\nwww.luv2code.com\\n\\nGit / GitHub Setup\\n\\nDeployment\\n\\n© luv2code LLC\\n\\n© CODINGWITHROBY\\n\\nFASTAPI OVERVIEW\\n\\nLET’S CODE TOGETHER\\n\\n© CODINGWITHROBY\\n\\nWHAT IS FASTAPI?\\n\\n(cid:12238)FastAPI is a Python web-framework for building modern\\n\\nAPIs (cid:12238)Fast (Performance) (cid:12238)Fast (Development)\\n\\n(cid:12238)Key Notes: (cid:12238)Few Bugs (cid:12238)Quick & Easy (cid:12238)Robust (cid:12238)Standards\\n\\nLET’S CODE TOGETHER\\n\\n© CODINGWITHROBY\\n\\nWHAT DOES THIS ALL MEAN FOR YOU?\\n\\n(cid:12238)FastAPI is a web-framework for building modern RESTful APIs\\n\\nhttps://fastapi.tiangolo.com/\\n\\nLET’S CODE TOGETHER\\n\\nOfficial documentation\\n\\n© CODINGWITHROBY\\n\\nWHERE DOES FASTAPI FIT WITHIN AN APPLICATION ARCHITECTURE?\\n\\nWeb Page'"
      ]
     },
     "execution_count": 86,
     "metadata": {},
     "output_type": "execute_result"
    }
   ],
   "source": [
    "docs[0].page_content"
   ]
  },
  {
   "cell_type": "markdown",
   "metadata": {},
   "source": [
    "***chatbot creation***\n",
    "\n",
    "\n",
    "\n",
    "We can then instantiate a retriever:"
   ]
  },
  {
   "cell_type": "code",
   "execution_count": 11,
   "metadata": {},
   "outputs": [],
   "source": [
    "retriever = vectoredb.as_retriever()"
   ]
  },
  {
   "cell_type": "code",
   "execution_count": 12,
   "metadata": {},
   "outputs": [],
   "source": [
    "retriever = vectoredb.as_retriever(\n",
    "    search_type=\"similarity_score_threshold\", search_kwargs={\"score_threshold\": 0.5}\n",
    ")"
   ]
  },
  {
   "cell_type": "code",
   "execution_count": 14,
   "metadata": {},
   "outputs": [
    {
     "name": "stderr",
     "output_type": "stream",
     "text": [
      "/Users/saeedanwar/Desktop/youtube video/myenv/lib/python3.12/site-packages/langchain_core/vectorstores/base.py:733: UserWarning: Relevance scores must be between 0 and 1, got [(Document(metadata={'source': '/Users/saeedanwar/Desktop/yt_ai_bot_code /data/FastAPI+Slides.pdf'}, page_content='(cid:12238) FastAPI LET’S CODE TOGETHER\\n\\n© CODINGWITHROBY\\n\\n© CODINGWITHROBY\\n\\nSELECT SQL QUERIES\\n\\nSELECT title FROM todos;\\n\\nSelect just title from columns\\n\\n(cid:12238) FastAPI LET’S CODE TOGETHER\\n\\n© CODINGWITHROBY\\n\\n© CODINGWITHROBY\\n\\nSELECT SQL QUERIES\\n\\nSELECT description FROM todos;\\n\\nSelect just description from columns\\n\\n(cid:12238) FastAPI LET’S CODE TOGETHER\\n\\n© CODINGWITHROBY\\n\\n© CODINGWITHROBY\\n\\nSELECT SQL QUERIES\\n\\nSELECT title, description FROM todos;\\n\\nSelect title, description from columns\\n\\n(cid:12238) FastAPI LET’S CODE TOGETHER\\n\\n© CODINGWITHROBY\\n\\n© CODINGWITHROBY\\n\\nSELECT SQL QUERIES\\n\\nSELECT title, description, priority FROM todos;\\n\\nSelect title, description and priority from columns\\n\\n(cid:12238) FastAPI LET’S CODE TOGETHER\\n\\n© CODINGWITHROBY\\n\\n© CODINGWITHROBY\\n\\nWHERE SQL QUERIES\\n\\nWHERE Clause\\n\\n(cid:12238) FastAPI LET’S CODE TOGETHER\\n\\n© CODINGWITHROBY\\n\\n© CODINGWITHROBY\\n\\nWHERE SQL QUERIES\\n\\nSELECT * FROM todos WHERE priority=5;\\n\\nSelect ALL rows & columns WHERE priority = 5'), -0.392720051400115), (Document(metadata={'source': '/Users/saeedanwar/Desktop/yt_ai_bot_code /data/FastAPI+Slides.pdf'}, page_content='Learn something new\\n\\nLearn to program\\n\\n(cid:12238) FastAPI LET’S CODE TOGETHER\\n\\npriority\\n\\n4\\n\\n3\\n\\n5\\n\\n4\\n\\n5\\n\\ncomplete\\n\\n0\\n\\n0\\n\\n0\\n\\n0\\n\\n0\\n\\n© CODINGWITHROBY\\n\\n© CODINGWITHROBY\\n\\nSTARTING DATABASE TABLE (TODOS)\\n\\nId (PK)\\n\\ntitle\\n\\ndescription\\n\\n1\\n\\nGo to store\\n\\nTo pick up eggs\\n\\n2\\n\\nHaircut\\n\\nNeed to get length 1mm\\n\\n3\\n\\nFeed dog\\n\\nMake sure to use new food brand\\n\\n4\\n\\nWater plant\\n\\nInside and Outside plants\\n\\n5\\n\\nLearn something new\\n\\nLearn to program\\n\\n6\\n\\nShower\\n\\nYou have not showered in days\\n\\n(cid:12238) FastAPI LET’S CODE TOGETHER\\n\\npriority\\n\\n4\\n\\n3\\n\\n5\\n\\n4\\n\\n5\\n\\n5\\n\\ncomplete\\n\\n0\\n\\n0\\n\\n0\\n\\n0\\n\\n0\\n\\n0\\n\\n© CODINGWITHROBY\\n\\n© CODINGWITHROBY\\n\\nDELETE\\n\\nId (PK)\\n\\n3\\n\\n4\\n\\n6\\n\\n(cid:12238) FastAPI LET’S CODE TOGETHER\\n\\ntitle\\n\\nFeed dog\\n\\nWater plant\\n\\nShower\\n\\ndescription\\n\\nMake sure to use new food brand\\n\\nInside and Outside plants\\n\\nYou have not showered in days\\n\\npriority\\n\\n5\\n\\n4\\n\\n5\\n\\ncomplete\\n\\nowner\\n\\n0\\n\\n2\\n\\n0\\n\\n2\\n\\n0\\n\\n2\\n\\n© CODINGWITHROBY\\n\\n© CODINGWITHROBY\\n\\nSELECT SQL QUERIES\\n\\nSELECT * FROM todos;\\n\\nSelect ALL columns and rows'), -0.3965533208907015), (Document(metadata={'source': '/Users/saeedanwar/Desktop/yt_ai_bot_code /data/FastAPI+Slides.pdf'}, page_content='exampleuser12 @example.com\\n\\nexampleuser\\n\\n(cid:12238) FastAPI LET’S CODE TOGETHER\\n\\nfirst_name\\n\\nEric\\n\\nExample\\n\\nlast_name\\n\\nRoby\\n\\nUser\\n\\nhashed_passwor d\\n\\nis_active\\n\\n123abcEqw!..\\n\\n1\\n\\nGjjjd!2!..\\n\\n1\\n\\n© CODINGWITHROBY\\n\\n© CODINGWITHROBY\\n\\nINSERTING DATABASE TABLE (TODOS)\\n\\nINSERT INTO todos (title, description, priority, complete)\\n\\nVALUES (‘Go to store’, ‘To pick up eggs’ 4, False);\\n\\nId (PK)\\n\\ntitle\\n\\ndescription\\n\\npriority\\n\\n1\\n\\nGo to store\\n\\nTo pick up eggs\\n\\n4\\n\\n(cid:12238) FastAPI LET’S CODE TOGETHER\\n\\ncomplete\\n\\n0\\n\\n© CODINGWITHROBY\\n\\n© CODINGWITHROBY\\n\\nINSERTING DATABASE TABLE (TODOS)\\n\\nINSERT INTO todos (title, description, priority, complete)\\n\\nVALUES (‘Haircut’, ‘Need to get length 1mm’ 3, False);\\n\\nId (PK)\\n\\ntitle\\n\\ndescription\\n\\npriority\\n\\n1\\n\\nGo to store\\n\\nTo pick up eggs\\n\\n4\\n\\n2\\n\\nHaircut\\n\\nNeed to get length 1mm\\n\\n3\\n\\n(cid:12238) FastAPI LET’S CODE TOGETHER\\n\\ncomplete\\n\\n0\\n\\n0\\n\\n© CODINGWITHROBY\\n\\n© CODINGWITHROBY\\n\\nSTARTING DATABASE TABLE (TODOS)\\n\\nId (PK)\\n\\ntitle\\n\\ndescription\\n\\n1\\n\\nGo to store\\n\\nTo pick up eggs\\n\\n2'), -0.40025485312626174), (Document(metadata={'source': '/Users/saeedanwar/Desktop/yt_ai_bot_code /data/FastAPI+Slides.pdf'}, page_content='(cid:12238) FastAPI LET’S CODE TOGETHER\\n\\n© CODINGWITHROBY\\n\\n© CODINGWITHROBY\\n\\nWHERE SQL QUERIES\\n\\nSELECT * FROM todos WHERE title=‘Feed dog’;\\n\\nSelect ALL rows & columns WHERE title= Feed dog\\n\\n(cid:12238) FastAPI LET’S CODE TOGETHER\\n\\n© CODINGWITHROBY\\n\\n© CODINGWITHROBY\\n\\nWHERE SQL QUERIES\\n\\nSELECT * FROM todos WHERE id=2;\\n\\nSelect ALL rows & columns WHERE id= 2\\n\\n(cid:12238) FastAPI LET’S CODE TOGETHER\\n\\n© CODINGWITHROBY\\n\\n© CODINGWITHROBY\\n\\nUPDATE SQL QUERIES\\n\\nUPDATE Clause\\n\\n(cid:12238) FastAPI LET’S CODE TOGETHER\\n\\n© CODINGWITHROBY\\n\\n© CODINGWITHROBY\\n\\nWHERE SQL QUERIES\\n\\nUPDATE todos SET complete=True WHERE title=‘Learn something new’;\\n\\nUpdate ALL rows & columns to now have complete = True WHERE id = 5\\n\\n1 == True\\n\\n(cid:12238) FastAPI LET’S CODE TOGETHER\\n\\n© CODINGWITHROBY\\n\\n© CODINGWITHROBY\\n\\nWHERE SQL QUERIES\\n\\nUPDATE todos SET complete=True WHERE id=5;\\n\\nUpdate ALL rows & columns to now have complete = True WHERE id = 5\\n\\n1 == True\\n\\n(cid:12238) FastAPI LET’S CODE TOGETHER\\n\\n© CODINGWITHROBY'), -0.40033139813737173)]\n",
      "  warnings.warn(\n",
      "/Users/saeedanwar/Desktop/youtube video/myenv/lib/python3.12/site-packages/langchain_core/vectorstores/base.py:745: UserWarning: No relevant docs were retrieved using the relevance score threshold 0.5\n",
      "  warnings.warn(\n"
     ]
    }
   ],
   "source": [
    "docs = retriever.invoke(\"what is fastapi ?\")"
   ]
  },
  {
   "cell_type": "code",
   "execution_count": 18,
   "metadata": {},
   "outputs": [],
   "source": [
    "from langchain_openai import ChatOpenAI\n",
    "\n",
    "chat = ChatOpenAI(model=\"gpt-3.5-turbo-1106\", temperature=0.2)"
   ]
  },
  {
   "cell_type": "code",
   "execution_count": 19,
   "metadata": {},
   "outputs": [],
   "source": [
    "from langchain.chains.combine_documents import create_stuff_documents_chain\n",
    "from langchain_core.prompts import ChatPromptTemplate, MessagesPlaceholder\n",
    "\n"
   ]
  },
  {
   "cell_type": "code",
   "execution_count": 20,
   "metadata": {},
   "outputs": [],
   "source": [
    "SYSTEM_TEMPLATE = \"\"\"\n",
    "Answer the user's questions based on the below context. \n",
    "If the context doesn't contain any relevant information to the question, don't make something up and just say \"I don't know\":\n",
    "\n",
    "<context>\n",
    "{context}\n",
    "</context>\n",
    "\"\"\"\n",
    "\n",
    "question_answering_prompt = ChatPromptTemplate.from_messages(\n",
    "    [\n",
    "        (\n",
    "            \"system\",\n",
    "            SYSTEM_TEMPLATE,\n",
    "        ),\n",
    "        MessagesPlaceholder(variable_name=\"messages\"),\n",
    "    ]\n",
    ")\n",
    "\n",
    "document_chain = create_stuff_documents_chain(chat, question_answering_prompt)"
   ]
  },
  {
   "cell_type": "code",
   "execution_count": 23,
   "metadata": {},
   "outputs": [
    {
     "data": {
      "text/plain": [
       "\"I don't know.\""
      ]
     },
     "execution_count": 23,
     "metadata": {},
     "output_type": "execute_result"
    }
   ],
   "source": [
    "from langchain_core.messages import HumanMessage\n",
    "\n",
    "document_chain.invoke(\n",
    "    {\n",
    "        \"context\": docs,\n",
    "        \"messages\": [\n",
    "            HumanMessage(content=\"what is reachjs ?\")\n",
    "        ],\n",
    "    }\n",
    ")"
   ]
  },
  {
   "cell_type": "code",
   "execution_count": null,
   "metadata": {},
   "outputs": [],
   "source": []
  }
 ],
 "metadata": {
  "kernelspec": {
   "display_name": "venv",
   "language": "python",
   "name": "python3"
  },
  "language_info": {
   "codemirror_mode": {
    "name": "ipython",
    "version": 3
   },
   "file_extension": ".py",
   "mimetype": "text/x-python",
   "name": "python",
   "nbconvert_exporter": "python",
   "pygments_lexer": "ipython3",
   "version": "3.12.3"
  }
 },
 "nbformat": 4,
 "nbformat_minor": 2
}
