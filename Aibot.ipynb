{
 "cells": [
  {
   "cell_type": "code",
   "execution_count": 47,
   "metadata": {},
   "outputs": [],
   "source": [
    "# import all important libraries \n",
    "from langchain_chroma import Chroma\n",
    "from langchain_community.document_loaders import DirectoryLoader\n",
    "from langchain_openai import OpenAIEmbeddings\n",
    "from langchain_text_splitters import CharacterTextSplitter\n",
    "from dotenv import load_dotenv\n",
    "import os"
   ]
  },
  {
   "cell_type": "code",
   "execution_count": 48,
   "metadata": {},
   "outputs": [
    {
     "data": {
      "text/plain": [
       "True"
      ]
     },
     "execution_count": 48,
     "metadata": {},
     "output_type": "execute_result"
    }
   ],
   "source": [
    "load_dotenv()"
   ]
  },
  {
   "cell_type": "code",
   "execution_count": 49,
   "metadata": {},
   "outputs": [
    {
     "name": "stdout",
     "output_type": "stream",
     "text": [
      "sk-proj-UBeh6jywisFG7OU5oAPpT3BlbkFJ9VmUFFIC5h0ikektGMyH\n"
     ]
    }
   ],
   "source": [
    "openai_api=os.getenv(\"OPENAI_API_KEY\")\n",
    "print(openai_api)"
   ]
  },
  {
   "cell_type": "code",
   "execution_count": 50,
   "metadata": {},
   "outputs": [],
   "source": [
    "# load the document and split it into chunks\n",
    "loader = DirectoryLoader(\"/Users/saeedanwar/Desktop/yt_ai_bot_code /data\")\n",
    "documents = loader.load()"
   ]
  },
  {
   "cell_type": "code",
   "execution_count": 51,
   "metadata": {},
   "outputs": [],
   "source": [
    "# split it into chunks\n",
    "text_splitter = CharacterTextSplitter(chunk_size=1000, chunk_overlap=0)\n",
    "docs = text_splitter.split_documents(documents)"
   ]
  },
  {
   "cell_type": "code",
   "execution_count": 26,
   "metadata": {},
   "outputs": [],
   "source": [
    "embeddings = OpenAIEmbeddings(model=\"text-embedding-3-small\")"
   ]
  },
  {
   "cell_type": "code",
   "execution_count": 54,
   "metadata": {},
   "outputs": [],
   "source": [
    "\n",
    "vectordb = Chroma.from_documents(docs, embeddings, persist_directory=\"./databasechroma\")"
   ]
  },
  {
   "cell_type": "code",
   "execution_count": 84,
   "metadata": {},
   "outputs": [],
   "source": [
    "query = \"what is fastapi ? \"\n",
    "docs = vectordb.similarity_search(query)"
   ]
  },
  {
   "cell_type": "code",
   "execution_count": 86,
   "metadata": {},
   "outputs": [
    {
     "data": {
      "text/plain": [
       "'Classes, Handling errors\\n\\nProject 3\\n\\nwww.luv2code.com\\n\\nDatabase & ORM\\n\\nAuthentication JWT\\n\\nRouting\\n\\n© luv2code LLC\\n\\n© CODINGWITHROBY\\n\\nCourse Content!\\n\\nProject 3.5\\n\\nDB & Data Migration\\n\\nProject 4\\n\\nLET’S CODE TOGETHER\\n\\nUnit & Integration Testing\\n\\nProject 5\\n\\nFull Stack Development\\n\\nwww.luv2code.com\\n\\nGit / GitHub Setup\\n\\nDeployment\\n\\n© luv2code LLC\\n\\n© CODINGWITHROBY\\n\\nFASTAPI OVERVIEW\\n\\nLET’S CODE TOGETHER\\n\\n© CODINGWITHROBY\\n\\nWHAT IS FASTAPI?\\n\\n(cid:12238)FastAPI is a Python web-framework for building modern\\n\\nAPIs (cid:12238)Fast (Performance) (cid:12238)Fast (Development)\\n\\n(cid:12238)Key Notes: (cid:12238)Few Bugs (cid:12238)Quick & Easy (cid:12238)Robust (cid:12238)Standards\\n\\nLET’S CODE TOGETHER\\n\\n© CODINGWITHROBY\\n\\nWHAT DOES THIS ALL MEAN FOR YOU?\\n\\n(cid:12238)FastAPI is a web-framework for building modern RESTful APIs\\n\\nhttps://fastapi.tiangolo.com/\\n\\nLET’S CODE TOGETHER\\n\\nOfficial documentation\\n\\n© CODINGWITHROBY\\n\\nWHERE DOES FASTAPI FIT WITHIN AN APPLICATION ARCHITECTURE?\\n\\nWeb Page'"
      ]
     },
     "execution_count": 86,
     "metadata": {},
     "output_type": "execute_result"
    }
   ],
   "source": [
    "docs[0].page_content"
   ]
  },
  {
   "cell_type": "code",
   "execution_count": 87,
   "metadata": {},
   "outputs": [],
   "source": [
    "#setting a chabbot "
   ]
  },
  {
   "cell_type": "code",
   "execution_count": 88,
   "metadata": {},
   "outputs": [],
   "source": [
    "from langchain_openai import ChatOpenAI\n",
    "\n",
    "chat = ChatOpenAI(model=\"gpt-3.5-turbo\", temperature=0.2)"
   ]
  },
  {
   "cell_type": "code",
   "execution_count": null,
   "metadata": {},
   "outputs": [],
   "source": []
  },
  {
   "cell_type": "code",
   "execution_count": null,
   "metadata": {},
   "outputs": [],
   "source": []
  }
 ],
 "metadata": {
  "kernelspec": {
   "display_name": "venv",
   "language": "python",
   "name": "python3"
  },
  "language_info": {
   "codemirror_mode": {
    "name": "ipython",
    "version": 3
   },
   "file_extension": ".py",
   "mimetype": "text/x-python",
   "name": "python",
   "nbconvert_exporter": "python",
   "pygments_lexer": "ipython3",
   "version": "3.12.3"
  }
 },
 "nbformat": 4,
 "nbformat_minor": 2
}
